{
 "cells": [
  {
   "cell_type": "code",
   "execution_count": 1,
   "id": "8dc7eb3f",
   "metadata": {},
   "outputs": [],
   "source": [
    "# lets understand how to set custom attributes to the Doc, Token and Span\n",
    "# the idea of add custom attributes is to make possible users add some metada to the data"
   ]
  },
  {
   "cell_type": "code",
   "execution_count": 2,
   "id": "ed47c96f",
   "metadata": {},
   "outputs": [],
   "source": [
    "# Custom attributes are available via _. proprerty, to avoid confusion with bult-in attributes from spacy\n",
    "# possible custom attribure: token._.myattr ; bultin attribute from spacy: token.text\n",
    "# Custo attributes can be computed manually or dynacally"
   ]
  },
  {
   "cell_type": "code",
   "execution_count": 3,
   "id": "267eb520",
   "metadata": {},
   "outputs": [],
   "source": [
    "# There are tree types of attribute extensions\n",
    "# - attribute extensions (example: define adefault value that can be overwritten)\n",
    "# - property extensions (example: Define a getter and an optional setter function)\n",
    "# - method extensions to apply in specifc doc slices"
   ]
  },
  {
   "cell_type": "code",
   "execution_count": 4,
   "id": "88f4b3cd",
   "metadata": {},
   "outputs": [
    {
     "name": "stdout",
     "output_type": "stream",
     "text": [
      "True\n"
     ]
    }
   ],
   "source": [
    "# attribute extension example:\n",
    "import spacy\n",
    "from spacy.tokens import Token\n",
    "nlp = spacy.blank(\"en\")\n",
    "# Set extension on the Token with default value\n",
    "Token.set_extension(\"is_color\", default=False)\n",
    "doc = nlp(\"The sky is blue.\")\n",
    "# Overwrite extension attribute value\n",
    "doc[3]._.is_color = True\n",
    "print(doc[3]._.is_color)"
   ]
  },
  {
   "cell_type": "code",
   "execution_count": 5,
   "id": "e7d600e1",
   "metadata": {},
   "outputs": [
    {
     "name": "stdout",
     "output_type": "stream",
     "text": [
      "True - blue\n"
     ]
    }
   ],
   "source": [
    "# propery extension Token example:\n",
    "from spacy.tokens import Token\n",
    "\n",
    "# Define getter function\n",
    "def get_is_color(token):\n",
    "    colors = [\"red\", \"yellow\", \"blue\"]\n",
    "    return token.text in colors\n",
    "\n",
    "# Set extension on the Token with getter\n",
    "Token.set_extension(\"is_color2\", getter=get_is_color)\n",
    "\n",
    "doc = nlp(\"The sky is blue.\")\n",
    "print(doc[3]._.is_color2, \"-\", doc[3].text)"
   ]
  },
  {
   "cell_type": "code",
   "execution_count": 6,
   "id": "691d83b0",
   "metadata": {},
   "outputs": [
    {
     "name": "stdout",
     "output_type": "stream",
     "text": [
      "True - sky is blue\n",
      "False - The sky\n"
     ]
    }
   ],
   "source": [
    "# propery extension Span example:\n",
    "from spacy.tokens import Token, Span\n",
    "# Define getter function\n",
    "def get_has_color(span):\n",
    "    colors = [\"red\", \"yellow\", \"blue\"]\n",
    "    return any(token.text in colors for token in span)\n",
    "    # The any() function returns True if any item in an iterable are true, otherwise it returns False.\n",
    "    # If the iterable object is empty, the any() function will return False.\n",
    "\n",
    "# Set extension on the Span with getter\n",
    "Span.set_extension(\"has_color\", getter=get_has_color)\n",
    "\n",
    "doc = nlp(\"The sky is blue.\")\n",
    "print(doc[1:4]._.has_color, \"-\", doc[1:4].text)\n",
    "print(doc[0:2]._.has_color, \"-\", doc[0:2].text)"
   ]
  },
  {
   "cell_type": "code",
   "execution_count": 7,
   "id": "9351b470",
   "metadata": {},
   "outputs": [
    {
     "name": "stdout",
     "output_type": "stream",
     "text": [
      "True - blue\n",
      "False - cloud\n"
     ]
    }
   ],
   "source": [
    "# method extension example\n",
    "from spacy.tokens import Doc\n",
    "\n",
    "# Define method with arguments\n",
    "def has_token(doc, token_text):\n",
    "    in_doc = token_text in [token.text for token in doc]\n",
    "    return in_doc\n",
    "\n",
    "# Set extension on the Doc with method\n",
    "Doc.set_extension(\"has_token\", method=has_token)\n",
    "\n",
    "doc = nlp(\"The sky is blue.\")\n",
    "# check if the token blue is there\n",
    "print(doc._.has_token(\"blue\"), \"- blue\")\n",
    "# check if the token cloud is there\n",
    "print(doc._.has_token(\"cloud\"), \"- cloud\")"
   ]
  },
  {
   "cell_type": "code",
   "execution_count": 8,
   "id": "2fe42132",
   "metadata": {},
   "outputs": [],
   "source": [
    "# Notes:\n",
    "# - method will be used when need to execute a method\n",
    "# - getter will be used when you want to takes an object and return an atrribute\n",
    "# - setter take the object and the value and modifies the object with this new value"
   ]
  }
 ],
 "metadata": {
  "kernelspec": {
   "display_name": "Python 3 (ipykernel)",
   "language": "python",
   "name": "python3"
  },
  "language_info": {
   "codemirror_mode": {
    "name": "ipython",
    "version": 3
   },
   "file_extension": ".py",
   "mimetype": "text/x-python",
   "name": "python",
   "nbconvert_exporter": "python",
   "pygments_lexer": "ipython3",
   "version": "3.9.10"
  }
 },
 "nbformat": 4,
 "nbformat_minor": 5
}
