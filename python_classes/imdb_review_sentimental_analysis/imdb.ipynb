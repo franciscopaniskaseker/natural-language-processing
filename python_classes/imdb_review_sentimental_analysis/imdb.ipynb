{
 "cells": [
  {
   "cell_type": "markdown",
   "id": "ffbc44ba",
   "metadata": {},
   "source": [
    "# Read imdb reviews, execute linear regression training and then predict if a comment is positive or negative"
   ]
  },
  {
   "cell_type": "code",
   "execution_count": 1,
   "id": "8240b8e7-6ff5-4fb7-a89a-d54ff52756f9",
   "metadata": {},
   "outputs": [],
   "source": [
    "# import libraries\n",
    "import pandas as pd\n",
    "import numpy as np\n",
    "import collections as cll"
   ]
  },
  {
   "cell_type": "code",
   "execution_count": 2,
   "id": "16ded9bc-7106-4505-85f9-db54665ee0d5",
   "metadata": {},
   "outputs": [],
   "source": [
    "# import the dataset\n",
    "dataset = pd.read_csv('imdb-reviews-pt-br.csv')\n",
    "y = dataset.iloc[:,-1].values\n",
    "dataset[\"treatment\"] = dataset[\"text_pt\"]"
   ]
  },
  {
   "cell_type": "code",
   "execution_count": 3,
   "id": "38292a23",
   "metadata": {},
   "outputs": [
    {
     "data": {
      "text/plain": [
       "Counter({'neg': 24765, 'pos': 24694})"
      ]
     },
     "execution_count": 3,
     "metadata": {},
     "output_type": "execute_result"
    }
   ],
   "source": [
    "# check the balance of dependent variable\n",
    "cll.Counter(y)"
   ]
  },
  {
   "cell_type": "code",
   "execution_count": 4,
   "id": "3079140f-0044-4ae1-bb2c-c150fc4d1417",
   "metadata": {},
   "outputs": [
    {
     "name": "stdout",
     "output_type": "stream",
     "text": [
      "[0 0 0 ... 1 1 1]\n"
     ]
    }
   ],
   "source": [
    "# encode the dependent variable in 0 or 1 instead of negative or positive\n",
    "from sklearn.preprocessing import LabelEncoder\n",
    "le = LabelEncoder()\n",
    "y = le.fit_transform(y)\n",
    "print(y)"
   ]
  },
  {
   "cell_type": "code",
   "execution_count": 5,
   "id": "6274b1e4",
   "metadata": {},
   "outputs": [
    {
     "data": {
      "text/html": [
       "<div>\n",
       "<style scoped>\n",
       "    .dataframe tbody tr th:only-of-type {\n",
       "        vertical-align: middle;\n",
       "    }\n",
       "\n",
       "    .dataframe tbody tr th {\n",
       "        vertical-align: top;\n",
       "    }\n",
       "\n",
       "    .dataframe thead th {\n",
       "        text-align: right;\n",
       "    }\n",
       "</style>\n",
       "<table border=\"1\" class=\"dataframe\">\n",
       "  <thead>\n",
       "    <tr style=\"text-align: right;\">\n",
       "      <th></th>\n",
       "      <th>id</th>\n",
       "      <th>text_en</th>\n",
       "      <th>text_pt</th>\n",
       "      <th>sentiment</th>\n",
       "      <th>treatment</th>\n",
       "    </tr>\n",
       "  </thead>\n",
       "  <tbody>\n",
       "    <tr>\n",
       "      <th>0</th>\n",
       "      <td>1</td>\n",
       "      <td>Once again Mr. Costner has dragged out a movie...</td>\n",
       "      <td>Mais uma vez, o Sr. Costner arrumou um filme p...</td>\n",
       "      <td>neg</td>\n",
       "      <td>Mais uma vez, o Sr. Costner arrumou um filme p...</td>\n",
       "    </tr>\n",
       "    <tr>\n",
       "      <th>1</th>\n",
       "      <td>2</td>\n",
       "      <td>This is an example of why the majority of acti...</td>\n",
       "      <td>Este é um exemplo do motivo pelo qual a maiori...</td>\n",
       "      <td>neg</td>\n",
       "      <td>Este é um exemplo do motivo pelo qual a maiori...</td>\n",
       "    </tr>\n",
       "    <tr>\n",
       "      <th>2</th>\n",
       "      <td>3</td>\n",
       "      <td>First of all I hate those moronic rappers, who...</td>\n",
       "      <td>Primeiro de tudo eu odeio esses raps imbecis, ...</td>\n",
       "      <td>neg</td>\n",
       "      <td>Primeiro de tudo eu odeio esses raps imbecis, ...</td>\n",
       "    </tr>\n",
       "    <tr>\n",
       "      <th>3</th>\n",
       "      <td>4</td>\n",
       "      <td>Not even the Beatles could write songs everyon...</td>\n",
       "      <td>Nem mesmo os Beatles puderam escrever músicas ...</td>\n",
       "      <td>neg</td>\n",
       "      <td>Nem mesmo os Beatles puderam escrever músicas ...</td>\n",
       "    </tr>\n",
       "    <tr>\n",
       "      <th>4</th>\n",
       "      <td>5</td>\n",
       "      <td>Brass pictures movies is not a fitting word fo...</td>\n",
       "      <td>Filmes de fotos de latão não é uma palavra apr...</td>\n",
       "      <td>neg</td>\n",
       "      <td>Filmes de fotos de latão não é uma palavra apr...</td>\n",
       "    </tr>\n",
       "  </tbody>\n",
       "</table>\n",
       "</div>"
      ],
      "text/plain": [
       "   id                                            text_en  \\\n",
       "0   1  Once again Mr. Costner has dragged out a movie...   \n",
       "1   2  This is an example of why the majority of acti...   \n",
       "2   3  First of all I hate those moronic rappers, who...   \n",
       "3   4  Not even the Beatles could write songs everyon...   \n",
       "4   5  Brass pictures movies is not a fitting word fo...   \n",
       "\n",
       "                                             text_pt sentiment  \\\n",
       "0  Mais uma vez, o Sr. Costner arrumou um filme p...       neg   \n",
       "1  Este é um exemplo do motivo pelo qual a maiori...       neg   \n",
       "2  Primeiro de tudo eu odeio esses raps imbecis, ...       neg   \n",
       "3  Nem mesmo os Beatles puderam escrever músicas ...       neg   \n",
       "4  Filmes de fotos de latão não é uma palavra apr...       neg   \n",
       "\n",
       "                                           treatment  \n",
       "0  Mais uma vez, o Sr. Costner arrumou um filme p...  \n",
       "1  Este é um exemplo do motivo pelo qual a maiori...  \n",
       "2  Primeiro de tudo eu odeio esses raps imbecis, ...  \n",
       "3  Nem mesmo os Beatles puderam escrever músicas ...  \n",
       "4  Filmes de fotos de latão não é uma palavra apr...  "
      ]
     },
     "execution_count": 5,
     "metadata": {},
     "output_type": "execute_result"
    }
   ],
   "source": [
    "# show the first 5 entries\n",
    "dataset.head()"
   ]
  },
  {
   "cell_type": "code",
   "execution_count": 6,
   "id": "19af54e8",
   "metadata": {},
   "outputs": [],
   "source": [
    "# importing more libraries\n",
    "import re\n",
    "import nltk\n",
    "from nltk import tokenize\n",
    "import seaborn as sns\n",
    "import matplotlib.pyplot as plt\n",
    "\n",
    "# variables\n",
    "words_freq_data = pd.DataFrame()\n",
    "\n",
    "# calc the words frequency\n",
    "def wordsFrequencyCalc():\n",
    "    global dataset, words_freq_data\n",
    "    \n",
    "    # get all words\n",
    "    words = ' '.join([texto for texto in dataset.treatment])\n",
    "\n",
    "    # breaks the text using white spaces\n",
    "    token_space = tokenize.WhitespaceTokenizer()\n",
    "\n",
    "    # breaks the text using punct\n",
    "    token_punct = tokenize.WordPunctTokenizer()\n",
    "\n",
    "    # tokenize the words\n",
    "    token_words = token_space.tokenize(words)\n",
    "\n",
    "    # get the words frequency\n",
    "    words_freq = nltk.FreqDist(token_words)\n",
    "\n",
    "    # create a dataframe to print the words frequency\n",
    "    words_freq_data = pd.DataFrame({\"Word\": list(words_freq.keys()),\"Frequency\": list(words_freq.values())})\n",
    "\n",
    "# show the n most frequent words\n",
    "def wordsFrequencyList(n):\n",
    "    global dataset, words_freq_data\n",
    "    wordsFrequencyCalc()\n",
    "    print(words_freq_data.nlargest(columns = \"Frequency\", n = n))\n",
    "\n",
    "# show the 20 most frequent words in barsplot graph\n",
    "def wordsFrequencyBar(n):\n",
    "    global dataset, words_freq_data\n",
    "    wordsFrequencyCalc()\n",
    "    plt.figure(figsize=(12,8))\n",
    "    barplot = sns.barplot(data = words_freq_data.nlargest(columns = \"Frequency\", n = n), x = \"Word\", y = \"Frequency\", color = 'gray')\n",
    "    barplot.set(ylabel=\"Contagem\")\n",
    "    plt.show()"
   ]
  },
  {
   "cell_type": "code",
   "execution_count": 7,
   "id": "a302ac90",
   "metadata": {},
   "outputs": [
    {
     "name": "stdout",
     "output_type": "stream",
     "text": [
      "      Word  Frequency\n",
      "20      de     417651\n",
      "14     que     325070\n",
      "42       e     299743\n",
      "3        o     244881\n",
      "7       um     216410\n",
      "102      a     210179\n",
      "45       é     192381\n",
      "200     em     132778\n",
      "1      uma     130888\n",
      "29     não     127915\n",
      "116   para     126556\n",
      "8    filme     117543\n",
      "13      do     101737\n",
      "32     com      99174\n",
      "67    como      78361\n",
      "96      os      73766\n",
      "151     se      72245\n",
      "27      eu      68814\n",
      "235    mas      64788\n",
      "389     da      61901\n"
     ]
    }
   ],
   "source": [
    "wordsFrequencyList(20)"
   ]
  },
  {
   "cell_type": "code",
   "execution_count": 8,
   "id": "08a952c0",
   "metadata": {},
   "outputs": [
    {
     "data": {
      "image/png": "[encoded data removed]",
      "text/plain": [
       "<Figure size 864x576 with 1 Axes>"
      ]
     },
     "metadata": {
      "needs_background": "light"
     },
     "output_type": "display_data"
    }
   ],
   "source": [
    "wordsFrequencyBar(20)"
   ]
  },
  {
   "cell_type": "code",
   "execution_count": 9,
   "id": "e6ecddf7",
   "metadata": {},
   "outputs": [
    {
     "data": {
      "text/plain": [
       "'3.6.7'"
      ]
     },
     "execution_count": 9,
     "metadata": {},
     "output_type": "execute_result"
    }
   ],
   "source": [
    "# get nltk version\n",
    "nltk.__version__"
   ]
  },
  {
   "cell_type": "code",
   "execution_count": 10,
   "id": "a80dedb9",
   "metadata": {},
   "outputs": [],
   "source": [
    "# import more libraries\n",
    "from string import punctuation\n",
    "from nltk.stem import PorterStemmer\n",
    "import unicodedata\n",
    "\n",
    "# objects\n",
    "words_banned = nltk.corpus.stopwords.words(\"portuguese\")\n",
    "token_punct = tokenize.WordPunctTokenizer()\n",
    "stemmer = PorterStemmer()\n",
    "\n",
    "# ban puncts\n",
    "for p in punctuation:\n",
    "    words_banned.append(p)\n",
    "\n",
    "# ban some custom words\n",
    "custom_words = \"tambem historia\"\n",
    "# split the words and return as an array\n",
    "custom_words = custom_words.split()\n",
    "\n",
    "# add some custom words\n",
    "for p in custom_words:\n",
    "    words_banned.append(p)\n",
    "\n",
    "# remove letters with punct and morphological variants\n",
    "aux_pos = 0\n",
    "for word_banned in words_banned:\n",
    "    word_banned = unicodedata.normalize(\"NFD\", word_banned)\n",
    "    word_banned = word_banned.encode(\"ascii\", \"ignore\")\n",
    "    word_banned = word_banned.decode(\"utf-8\")\n",
    "    \n",
    "    words_banned[aux_pos] = stemmer.stem(word_banned)\n",
    "    aux_pos += 1\n",
    "\n",
    "# remove possible duplicated words\n",
    "words_banned = list(dict.fromkeys(words_banned))\n",
    "\n",
    "# remove banned words\n",
    "dataset_position = 0\n",
    "for text in dataset.treatment:\n",
    "    phrase = list()\n",
    "    # tokenize the text\n",
    "    phrase_tokenized = token_punct.tokenize(text)\n",
    "    stemmer = PorterStemmer()\n",
    "    # treat the words\n",
    "    for word in phrase_tokenized:\n",
    "        # remove words with punct\n",
    "        word = unicodedata.normalize(\"NFD\", word)\n",
    "        word = word.encode(\"ascii\", \"ignore\")\n",
    "        word = word.decode(\"utf-8\")\n",
    "\n",
    "        # remove capital letters\n",
    "        word = word.lower()\n",
    "        \n",
    "        # remove morphological variants\n",
    "        word = stemmer.stem(word)\n",
    "        \n",
    "        # if the word is not banned, add to the phrase\n",
    "        if word not in words_banned:\n",
    "            phrase.append(word)\n",
    "            \n",
    "    # append as one phrase\n",
    "    phrase_processed = ' '.join(phrase)\n",
    "    \n",
    "    # save in the dataframe\n",
    "    dataset.loc[dataset_position,'treatment'] = phrase_processed\n",
    "    \n",
    "    # increment the row position\n",
    "    dataset_position += 1"
   ]
  },
  {
   "cell_type": "code",
   "execution_count": 11,
   "id": "d319b2e7",
   "metadata": {},
   "outputs": [
    {
     "name": "stdout",
     "output_type": "stream",
     "text": [
      "['de', 'a', 'o', 'que', 'e', 'do', 'da', 'em', 'um', 'para', 'com', 'nao', 'uma', 'os', 'no', 'se', 'na', 'por', 'mai', 'as', 'como', 'ma', 'ao', 'ele', 'seu', 'sua', 'ou', 'quando', 'muito', 'ja', 'eu', 'tambem', 'so', 'pelo', 'pela', 'ate', 'isso', 'ela', 'entr', 'depoi', 'sem', 'mesmo', 'quem', 'me', 'ess', 'voce', 'essa', 'num', 'nem', 'meu', 'minha', 'numa', 'qual', 'lhe', 'dele', 'est', 'tu', 'te', 'vo', 'teu', 'tua', 'nosso', 'nossa', 'dela', 'esta', 'aquel', 'aquela', 'isto', 'aquilo', 'estou', 'estamo', 'estao', 'estiv', 'estev', 'estivemo', 'estiveram', 'estava', 'estavamo', 'estavam', 'estivera', 'estiveramo', 'esteja', 'estejamo', 'estejam', 'estivess', 'estivessemo', 'estivessem', 'estivermo', 'estiverem', 'hei', 'ha', 'havemo', 'hao', 'houv', 'houvemo', 'houveram', 'houvera', 'houveramo', 'haja', 'hajamo', 'hajam', 'houvess', 'houvessemo', 'houvessem', 'houver', 'houvermo', 'houverem', 'houverei', 'houveremo', 'houverao', 'houveria', 'houveriamo', 'houveriam', 'sou', 'somo', 'sao', 'era', 'eramo', 'eram', 'fui', 'foi', 'fomo', 'foram', 'fora', 'foramo', 'seja', 'sejamo', 'sejam', 'foss', 'fossemo', 'fossem', 'for', 'formo', 'forem', 'serei', 'sera', 'seremo', 'serao', 'seria', 'seriamo', 'seriam', 'tenho', 'tem', 'temo', 'tinha', 'tinhamo', 'tinham', 'tive', 'teve', 'tivemo', 'tiveram', 'tivera', 'tiveramo', 'tenha', 'tenhamo', 'tenham', 'tivess', 'tivessemo', 'tivessem', 'tiver', 'tivermo', 'tiverem', 'terei', 'tera', 'teremo', 'terao', 'teria', 'teriamo', 'teriam', '!', '\"', '#', '$', '%', '&', \"'\", '(', ')', '*', '+', ',', '-', '.', '/', ':', ';', '<', '=', '>', '?', '@', '[', '\\\\', ']', '^', '_', '`', '{', '|', '}', '~', 'historia']\n"
     ]
    }
   ],
   "source": [
    "print(words_banned)"
   ]
  },
  {
   "cell_type": "code",
   "execution_count": 12,
   "id": "49849b19",
   "metadata": {},
   "outputs": [
    {
     "data": {
      "text/html": [
       "<div>\n",
       "<style scoped>\n",
       "    .dataframe tbody tr th:only-of-type {\n",
       "        vertical-align: middle;\n",
       "    }\n",
       "\n",
       "    .dataframe tbody tr th {\n",
       "        vertical-align: top;\n",
       "    }\n",
       "\n",
       "    .dataframe thead th {\n",
       "        text-align: right;\n",
       "    }\n",
       "</style>\n",
       "<table border=\"1\" class=\"dataframe\">\n",
       "  <thead>\n",
       "    <tr style=\"text-align: right;\">\n",
       "      <th></th>\n",
       "      <th>id</th>\n",
       "      <th>text_en</th>\n",
       "      <th>text_pt</th>\n",
       "      <th>sentiment</th>\n",
       "      <th>treatment</th>\n",
       "    </tr>\n",
       "  </thead>\n",
       "  <tbody>\n",
       "    <tr>\n",
       "      <th>0</th>\n",
       "      <td>1</td>\n",
       "      <td>Once again Mr. Costner has dragged out a movie...</td>\n",
       "      <td>Mais uma vez, o Sr. Costner arrumou um filme p...</td>\n",
       "      <td>neg</td>\n",
       "      <td>vez sr costner arrum film tempo necessario ale...</td>\n",
       "    </tr>\n",
       "    <tr>\n",
       "      <th>1</th>\n",
       "      <td>2</td>\n",
       "      <td>This is an example of why the majority of acti...</td>\n",
       "      <td>Este é um exemplo do motivo pelo qual a maiori...</td>\n",
       "      <td>neg</td>\n",
       "      <td>exemplo motivo maioria film acao generico chat...</td>\n",
       "    </tr>\n",
       "    <tr>\n",
       "      <th>2</th>\n",
       "      <td>3</td>\n",
       "      <td>First of all I hate those moronic rappers, who...</td>\n",
       "      <td>Primeiro de tudo eu odeio esses raps imbecis, ...</td>\n",
       "      <td>neg</td>\n",
       "      <td>primeiro tudo odeio rap imbeci poderiam agir a...</td>\n",
       "    </tr>\n",
       "    <tr>\n",
       "      <th>3</th>\n",
       "      <td>4</td>\n",
       "      <td>Not even the Beatles could write songs everyon...</td>\n",
       "      <td>Nem mesmo os Beatles puderam escrever músicas ...</td>\n",
       "      <td>neg</td>\n",
       "      <td>beatl puderam escrev musica todo gostassem emb...</td>\n",
       "    </tr>\n",
       "    <tr>\n",
       "      <th>4</th>\n",
       "      <td>5</td>\n",
       "      <td>Brass pictures movies is not a fitting word fo...</td>\n",
       "      <td>Filmes de fotos de latão não é uma palavra apr...</td>\n",
       "      <td>neg</td>\n",
       "      <td>film foto latao palavra apropriada verdad tant...</td>\n",
       "    </tr>\n",
       "  </tbody>\n",
       "</table>\n",
       "</div>"
      ],
      "text/plain": [
       "   id                                            text_en  \\\n",
       "0   1  Once again Mr. Costner has dragged out a movie...   \n",
       "1   2  This is an example of why the majority of acti...   \n",
       "2   3  First of all I hate those moronic rappers, who...   \n",
       "3   4  Not even the Beatles could write songs everyon...   \n",
       "4   5  Brass pictures movies is not a fitting word fo...   \n",
       "\n",
       "                                             text_pt sentiment  \\\n",
       "0  Mais uma vez, o Sr. Costner arrumou um filme p...       neg   \n",
       "1  Este é um exemplo do motivo pelo qual a maiori...       neg   \n",
       "2  Primeiro de tudo eu odeio esses raps imbecis, ...       neg   \n",
       "3  Nem mesmo os Beatles puderam escrever músicas ...       neg   \n",
       "4  Filmes de fotos de latão não é uma palavra apr...       neg   \n",
       "\n",
       "                                           treatment  \n",
       "0  vez sr costner arrum film tempo necessario ale...  \n",
       "1  exemplo motivo maioria film acao generico chat...  \n",
       "2  primeiro tudo odeio rap imbeci poderiam agir a...  \n",
       "3  beatl puderam escrev musica todo gostassem emb...  \n",
       "4  film foto latao palavra apropriada verdad tant...  "
      ]
     },
     "execution_count": 12,
     "metadata": {},
     "output_type": "execute_result"
    }
   ],
   "source": [
    "dataset.head()"
   ]
  },
  {
   "cell_type": "code",
   "execution_count": 13,
   "id": "e974e365",
   "metadata": {},
   "outputs": [
    {
     "name": "stdout",
     "output_type": "stream",
     "text": [
      "         Word  Frequency\n",
      "4        film     186858\n",
      "60        ser      34175\n",
      "132      todo      33073\n",
      "57       sobr      29093\n",
      "211       tao      25247\n",
      "150  realment      24862\n",
      "353     apena      23904\n",
      "53        bem      23226\n",
      "39     melhor      23108\n",
      "593      pode      21170\n",
      "271       ano      21068\n",
      "42     pessoa      20993\n",
      "143       ...      20670\n",
      "359      cena      20589\n",
      "161     coisa      20444\n",
      "318       ter      20294\n",
      "190     outro      19716\n",
      "5       tempo      19347\n",
      "340     entao      19130\n",
      "229     grand      18557\n"
     ]
    }
   ],
   "source": [
    "wordsFrequencyList(20)"
   ]
  },
  {
   "cell_type": "code",
   "execution_count": 14,
   "id": "05b6cdda",
   "metadata": {},
   "outputs": [
    {
     "data": {
      "image/png": "[encoded data removed]",
      "text/plain": [
       "<Figure size 864x576 with 1 Axes>"
      ]
     },
     "metadata": {
      "needs_background": "light"
     },
     "output_type": "display_data"
    }
   ],
   "source": [
    "wordsFrequencyBar(20)"
   ]
  },
  {
   "cell_type": "code",
   "execution_count": 15,
   "id": "8d89381e-cc5a-4cb4-a216-436d69f78199",
   "metadata": {},
   "outputs": [
    {
     "name": "stdout",
     "output_type": "stream",
     "text": [
      "['vez sr costner arrum film tempo necessario alem terrivei sequencia resgat mar quai pouca simplesment importei nenhum personagen maioria fantasma armario personagem coster realizado logo inicio esquecido tard importava personagem deveriamo importar arrogant superconfiant ashton kutcher problema sai garoto pensa melhor qualquer outra pessoa redor mostra sinai armario desordenado unico obstaculo parec estar vencendo costner finalment bem alem meio caminho costner conta sobr fantasma kutcher informado kutcher levado ser melhor pressentimento pressagio anterior nenhuma magica aqui tudo podia fazer desligar hora'\n",
      " 'exemplo motivo maioria film acao generico chato nada valha pena assistir aqui completo desperdicio talento ice t cubo gelo mal aproveitado cada comprovando capaz atuar agir bem incomod va ver new jack citi ricochet assistir new york undercov ice t boyz hood higher learn friday ice cube ver negocio real ice ts horrivelment clich dialogo sozinho faz film ralar dent ainda perguntando diabo bill paxton fazendo nest film diabo sempr interpreta exatament personagem extraterrestr diant todo film vi bill paxton fizeram interpretar exatament personagem irritant meno alien personagem morreu tornou pouco gratificant ... geral lixo acao segunda class existem incontavei  film melhor ver realment quiser ver film assista judgment night praticament copia carbono melhor atuacao roteiro melhor unica coisa fez valer pena assistir mao decent camera cinematografia quas refrescant chega perto compensar horrivel film si bem assim 4 10'\n",
      " 'primeiro tudo odeio rap imbeci poderiam agir arma pressionada contra testa tudo fazem amaldicoar atirar outro agir versao clich gangster film leva cinco minuto explicar acontecendo ant armazem unico personagem simpatico ness film excecao teto unico metad cerebro william paxton william sadler ambo hill billi sadler tao vilao quanto gangster gostava desd comeco film cheio violencia sentido especialidad walter hill pessoa caindo janela vidro voando toda part praticament nenhum enredo grand problema torc ninguem todo mundo morr exceto paxton teto todo recebem merecem doi unico negro podem atuar teto viciado ator profissao irritant rapper feio fiqu long dessa porcaria observ 48 hora 1 2 vez disso minimo personagen gosta senso humor nada alem ator reai elenco'\n",
      " ...\n",
      " 'espantado forma film maioria outro media 5 estrela menor film baixa qualidad media 7 10 estrela imdb mentalidad fanboy ataca novament film saiu quas todo mundo bateu ex namorada diss film questionavel ano sentei assistir film vi aproveitando rindo pouco assassino substituicao film pessoa rotulando diretor antoin fuqua negro michael bay vejo maioria film fuqua inteligent qualquer coisa michael bay inventado qualquer forma ... alvin sandersjami foxx ex presidiario usado nonsens agent tesouro edgardavid mors peao pegar assassino chamado bristoldoug hutchinson alvin todo movimento rastreado bug implantado mandibula apo acident enquanto agent atra bristol bristol atra tijolo ouro levado assalto deu errado jami foxx tao divertido quanto alvin sander alvin falador rapido esperto deixa transparec doug hutchinson bem bristol pode ser over the top veze comportamento john malkovitchesqu melhor aqui looney bin jim punish war zone david mors bom agent tesouro mike epp engracado irmao alvin stevi tanto quanto jami algun momento engracado tela unica falha film alguma tentativa suspens caem surpresa cenario pista corrida cavalo exagerado consegui desviar olhar diretor todo la entao ganha ponto alem disso cena bomba agent tesouro amarrado cadeira enquanto detonador descansa porta bem bacana tudo toda isca film ruim longo tiro nunca chato sempr engracado verificando relogio cada minuto deve contar alguma coisa bait film subestimado periodo 2000 ps critico aleg film violento ... quanto tempo vive sob rocha certeza viu seri die hard cada film quentin tarantino film violento certo esquisito'\n",
      " 'christma togeth realment veio ant tempo criado john denver musica dest especi sempr musica natal familia durant ano fita casset feita disco significava natal algun ano atra finalment consegui encontrar video ebay entao ouvir toda musica 21 ano pude ver john muppet acao mim chanc divertido boa musica comovent brega interessant ver verso muppet ano 70 compara la verso recent hoje acredito denver realment pouco calor fazer show acho normalment artista comprometem imagen fazendo sing long muppet feliz feito consiga rastrear video trilha sonora vale pena algun favorito tradicionai muppifi alguma musica originai denver'\n",
      " 'drama romantico class trabalhadora diretor martin ritt tao inacreditavel quanto momento prazer devido principalment carisma estrela jane fonda robert niro ambo otimo viuva pode seguir frent analfabeta inventora armario provavelment pode adivinhar resto adaptacao romanc pat barker union street titulo melhor tao descontraido beirar graca edicao film bagunca ainda agradavel fantasia colarinho azul ton rosado abertura questo angulo analfabetismo apena ferramenta enredo amor segu fogo artificio reai embora personagen intencionalment pouco incolor derivaco reduzida nivel interessant final puro fluff cinico acharao dificil engolir embora doi personagen merecam final feliz foto realment satisfatoria outra maneira partir']\n"
     ]
    }
   ],
   "source": [
    "# create the bag of words structure\n",
    "from sklearn.feature_extraction.text import CountVectorizer\n",
    "cv = CountVectorizer(max_features = 1000)\n",
    "X = dataset.loc[:, 'treatment'].values\n",
    "print(X)"
   ]
  },
  {
   "cell_type": "code",
   "execution_count": 16,
   "id": "4ecc2b8d",
   "metadata": {},
   "outputs": [],
   "source": [
    "# fit and transform\n",
    "X = cv.fit_transform(X).toarray()"
   ]
  },
  {
   "cell_type": "code",
   "execution_count": 17,
   "id": "3619911d",
   "metadata": {},
   "outputs": [
    {
     "name": "stdout",
     "output_type": "stream",
     "text": [
      "[[0 0 0 ... 0 0 0]\n",
      " [1 0 0 ... 0 1 0]\n",
      " [0 0 0 ... 2 0 0]\n",
      " ...\n",
      " [1 0 0 ... 0 0 0]\n",
      " [0 0 0 ... 0 0 0]\n",
      " [0 0 0 ... 0 0 0]]\n"
     ]
    }
   ],
   "source": [
    "# show the bag of words X matrix\n",
    "print(X)"
   ]
  },
  {
   "cell_type": "code",
   "execution_count": 18,
   "id": "558e434f-edb7-4dbd-8c15-f2ad24701e6b",
   "metadata": {},
   "outputs": [],
   "source": [
    "# create the train and test dataset using bag of words\n",
    "from sklearn.model_selection import train_test_split\n",
    "X_train, X_test, y_train, y_test = train_test_split(X, y, random_state=42, test_size=0.2)"
   ]
  },
  {
   "cell_type": "code",
   "execution_count": 19,
   "id": "1849b760-7086-4f39-8ed4-3a6fb83e77e1",
   "metadata": {},
   "outputs": [
    {
     "name": "stdout",
     "output_type": "stream",
     "text": [
      "[0 0 0 ... 1 0 1]\n"
     ]
    }
   ],
   "source": [
    "# show y train\n",
    "print(y_train)"
   ]
  },
  {
   "cell_type": "code",
   "execution_count": 20,
   "id": "64ddd532",
   "metadata": {},
   "outputs": [],
   "source": [
    "# negative review to predict, using words to try to make a fool of AI\n",
    "portuguese_negative_review = ['Bem mais ou menos, já vi muitos melhores sobre o mesmo tema.']\n",
    "# positive review to predict, using words to try to make a fool of AI\n",
    "portuguese_positive_review = ['Já vi muito filme ruim, bem ruim mesmo, sobre o tema. Mas este é incrível!!!']\n"
   ]
  },
  {
   "cell_type": "code",
   "execution_count": 21,
   "id": "c279813b-6359-4687-9132-8290cd91053d",
   "metadata": {},
   "outputs": [],
   "source": [
    "# linear regression model using bag of words\n",
    "from sklearn.linear_model import LogisticRegression\n",
    "lr = LogisticRegression(max_iter=400)\n",
    "lr.fit(X_train,y_train)\n",
    "accuracy = lr.score(X_test,y_test)"
   ]
  },
  {
   "cell_type": "code",
   "execution_count": 22,
   "id": "d52bace1-c88f-49fc-8cfe-64ed6fa4f7e3",
   "metadata": {},
   "outputs": [
    {
     "name": "stdout",
     "output_type": "stream",
     "text": [
      "0.8553376465830974\n"
     ]
    }
   ],
   "source": [
    "# accurary using bag of words\n",
    "print(accuracy)"
   ]
  },
  {
   "cell_type": "code",
   "execution_count": 23,
   "id": "9f2b6c0c",
   "metadata": {},
   "outputs": [
    {
     "data": {
      "text/plain": [
       "array([1])"
      ]
     },
     "execution_count": 23,
     "metadata": {},
     "output_type": "execute_result"
    }
   ],
   "source": [
    "# predict the negative review\n",
    "portuguese_negative_review_transformed = cv.transform(portuguese_negative_review).toarray()\n",
    "lr.predict(portuguese_negative_review_transformed)"
   ]
  },
  {
   "cell_type": "code",
   "execution_count": 24,
   "id": "dfb98c03",
   "metadata": {},
   "outputs": [
    {
     "data": {
      "text/plain": [
       "array([0])"
      ]
     },
     "execution_count": 24,
     "metadata": {},
     "output_type": "execute_result"
    }
   ],
   "source": [
    "# predict the negative review\n",
    "portuguese_positive_review_transformed = cv.transform(portuguese_positive_review).toarray()\n",
    "lr.predict(portuguese_positive_review_transformed)"
   ]
  },
  {
   "cell_type": "code",
   "execution_count": 25,
   "id": "23f51c97",
   "metadata": {},
   "outputs": [
    {
     "name": "stdout",
     "output_type": "stream",
     "text": [
      "0.6939951475940154\n"
     ]
    }
   ],
   "source": [
    "# create TF-IDF matrix to test with the linear regression model\n",
    "from sklearn.feature_extraction.text import TfidfVectorizer\n",
    "\n",
    "# object TfidfVectorizer\n",
    "tfidf = TfidfVectorizer(lowercase=False, max_features=50)\n",
    "\n",
    "# create the matrix in extra variable\n",
    "X_2 = tfidf.fit_transform(dataset[\"treatment\"])\n",
    "\n",
    "# create the train and test dataset using TF-IDF\n",
    "from sklearn.model_selection import train_test_split\n",
    "X_train, X_test, y_train, y_test = train_test_split(X_2, y, random_state=42, test_size=0.2)\n",
    "\n",
    "# linear regression using TF-IDF\n",
    "from sklearn.linear_model import LogisticRegression\n",
    "lr = LogisticRegression(max_iter=400)\n",
    "lr.fit(X_train,y_train)\n",
    "accuracy = lr.score(X_test,y_test)\n",
    "print(accuracy)"
   ]
  },
  {
   "cell_type": "code",
   "execution_count": 26,
   "id": "be6a16c9",
   "metadata": {},
   "outputs": [
    {
     "data": {
      "text/plain": [
       "array([1])"
      ]
     },
     "execution_count": 26,
     "metadata": {},
     "output_type": "execute_result"
    }
   ],
   "source": [
    "# predict the negative review\n",
    "portuguese_negative_review_transformed = tfidf.transform(portuguese_negative_review)\n",
    "lr.predict(portuguese_negative_review_transformed)"
   ]
  },
  {
   "cell_type": "code",
   "execution_count": 27,
   "id": "39282731",
   "metadata": {},
   "outputs": [
    {
     "data": {
      "text/plain": [
       "array([0])"
      ]
     },
     "execution_count": 27,
     "metadata": {},
     "output_type": "execute_result"
    }
   ],
   "source": [
    "# predict the negative review\n",
    "portuguese_positive_review_transformed = tfidf.transform(portuguese_positive_review)\n",
    "lr.predict(portuguese_positive_review_transformed)"
   ]
  },
  {
   "cell_type": "code",
   "execution_count": 28,
   "id": "85962964-ef3c-4a00-8054-5ca7a18b51b3",
   "metadata": {},
   "outputs": [
    {
     "name": "stdout",
     "output_type": "stream",
     "text": [
      "0.8840477153255155\n"
     ]
    }
   ],
   "source": [
    "# create TF-IDF matrix to test with the linear regression model using ngram\n",
    "from nltk import ngrams\n",
    "\n",
    "# object TfidfVectorizer with ngram\n",
    "tfidf = TfidfVectorizer(lowercase=False, ngram_range = (1,2))\n",
    "\n",
    "# create the matrix in extra variable\n",
    "X_3 = tfidf.fit_transform(dataset[\"treatment\"])\n",
    "\n",
    "# create the train and test dataset using TF-IDF with ngram\n",
    "from sklearn.model_selection import train_test_split\n",
    "X_train, X_test, y_train, y_test = train_test_split(X_3, y, random_state=42, test_size=0.2)\n",
    "\n",
    "# linear regression using TF-IDF with ngram\n",
    "from sklearn.linear_model import LogisticRegression\n",
    "lr = LogisticRegression(max_iter=400)\n",
    "lr.fit(X_train,y_train)\n",
    "accuracy = lr.score(X_test,y_test)\n",
    "print(accuracy)"
   ]
  },
  {
   "cell_type": "code",
   "execution_count": 29,
   "id": "cd4aeaba",
   "metadata": {},
   "outputs": [
    {
     "data": {
      "text/plain": [
       "array([1])"
      ]
     },
     "execution_count": 29,
     "metadata": {},
     "output_type": "execute_result"
    }
   ],
   "source": [
    "# predict the negative review\n",
    "portuguese_negative_review_transformed = tfidf.transform(portuguese_negative_review)\n",
    "lr.predict(portuguese_negative_review_transformed)"
   ]
  },
  {
   "cell_type": "code",
   "execution_count": 30,
   "id": "5ea439a4",
   "metadata": {},
   "outputs": [
    {
     "data": {
      "text/plain": [
       "array([0])"
      ]
     },
     "execution_count": 30,
     "metadata": {},
     "output_type": "execute_result"
    }
   ],
   "source": [
    "# predict the negative review\n",
    "portuguese_positive_review_transformed = tfidf.transform(portuguese_positive_review)\n",
    "lr.predict(portuguese_positive_review_transformed)"
   ]
  }
 ],
 "metadata": {
  "kernelspec": {
   "display_name": "Python 3 (ipykernel)",
   "language": "python",
   "name": "python3"
  },
  "language_info": {
   "codemirror_mode": {
    "name": "ipython",
    "version": 3
   },
   "file_extension": ".py",
   "mimetype": "text/x-python",
   "name": "python",
   "nbconvert_exporter": "python",
   "pygments_lexer": "ipython3",
   "version": "3.9.10"
  }
 },
 "nbformat": 4,
 "nbformat_minor": 5
}
